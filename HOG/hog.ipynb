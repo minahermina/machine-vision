{
  "cells": [
    {
      "cell_type": "markdown",
      "metadata": {
        "id": "view-in-github",
        "colab_type": "text"
      },
      "source": [
        "<a href=\"https://colab.research.google.com/github/minahermina/machine-vision/blob/master/HOG/hog.ipynb\" target=\"_parent\"><img src=\"https://colab.research.google.com/assets/colab-badge.svg\" alt=\"Open In Colab\"/></a>"
      ]
    },
    {
      "cell_type": "markdown",
      "metadata": {
        "id": "cUYH7S-PQAOR"
      },
      "source": [
        "\n",
        "<br>\n",
        "Required: <br>\n",
        "    [x] 1- Pre-process the image with the appropriate aspect ratio.<br>\n",
        "    [x] 2- Get image gradients by convoluting sobel kernel (Applying 1st order derivative) with the image.<br>\n",
        "    [x] 3- Get magnitude and phase for the image.<br>\n",
        "    [x] 4- Get histogram for the magnitudes based on the directions using the ratio approach.<br>\n",
        "    [x] 5 - Normalize each histogram.<br>\n",
        "    [x] 6- Concatenate all histograms into a single feature vector.  <br>\n",
        "Bonus:<br>\n",
        "    [x] 1- Normalize each 4 histograms together in 16*16 block instead of normalizing each histogram alone in the 8*8 block. <br>\n",
        "    [] 2- Draw the HoG over the image (Magnitude & Phase).<br>\n"
      ]
    },
    {
      "cell_type": "code",
      "execution_count": null,
      "metadata": {
        "id": "l3byJ3nGQAOV"
      },
      "outputs": [],
      "source": [
        "import numpy as np\n",
        "# from python import matplotlib.pyplot as plt\n",
        "# from python import cv2\n",
        "# from python import sys"
      ]
    },
    {
      "cell_type": "code",
      "execution_count": null,
      "metadata": {
        "id": "YdIOoBA_QAOW"
      },
      "outputs": [],
      "source": [
        "import matplotlib.pyplot as plt\n",
        "import cv2\n",
        "import sys"
      ]
    },
    {
      "cell_type": "code",
      "execution_count": null,
      "metadata": {
        "id": "FxIoqHSxQAOX"
      },
      "outputs": [],
      "source": [
        "def img_disp(image: np.ndarray):\n",
        "    plt.figure(figsize=(10, 10))\n",
        "    plt.imshow(image, cmap='gray')\n",
        "    plt.axis(\"off\")\n",
        "    plt.show()"
      ]
    },
    {
      "cell_type": "code",
      "execution_count": null,
      "metadata": {
        "id": "eGyCUnlOQAOY"
      },
      "outputs": [],
      "source": [
        "dimensions = (64, 128)"
      ]
    },
    {
      "cell_type": "code",
      "execution_count": null,
      "metadata": {
        "id": "0InknyaoQAOa"
      },
      "outputs": [],
      "source": [
        "def validate_dimensions(dimensions):\n",
        "    width, height = dimensions\n",
        "    if width * 2 != height:\n",
        "        raise ValueError(f\"Dimensions {dimensions} do not have a 1:2 ratio.\")\n",
        "    if width % 8 != 0 or height % 8 != 0:\n",
        "        raise ValueError(f\"Dimensions {dimensions} are not divisible by 8.\")\n",
        "    print(f\"    Dimensions {dimensions} are valid.\")\n",
        "    return True"
      ]
    },
    {
      "cell_type": "code",
      "execution_count": null,
      "metadata": {
        "id": "qDeKC1zDQAOb"
      },
      "outputs": [],
      "source": [
        "def preprocess_image(image):\n",
        "    # Validate dimensions before resizing\n",
        "    validate_dimensions(dimensions)\n",
        "    print(f'    image before resize: {image.shape}')\n",
        "    image = cv2.resize(image, dimensions, interpolation=cv2.INTER_CUBIC)\n",
        "    print(f'    image after resize: {image.shape}')\n",
        "    return image"
      ]
    },
    {
      "cell_type": "code",
      "execution_count": null,
      "metadata": {
        "id": "9J10XaaRQAOd"
      },
      "outputs": [],
      "source": [
        "def get_gradients(image) -> tuple[np.ndarray, np.ndarray]:\n",
        "    sobel_x = np.array([\n",
        "        [-1, 0, 1],\n",
        "        [-2, 0, 2],\n",
        "        [-1, 0, 1]\n",
        "    ])\n",
        "    sobel_y = np.array([\n",
        "        [-1, -2, -1],\n",
        "        [0,  0,  0],\n",
        "        [1,  2,  1]\n",
        "    ])\n",
        "    grad_x = cv2.filter2D(image, -1, sobel_x)\n",
        "    grad_y = cv2.filter2D(image, -1, sobel_y)\n",
        "    print(f'    Shape gradient matrices: {grad_x.shape}')\n",
        "    return grad_x, grad_y"
      ]
    },
    {
      "cell_type": "code",
      "execution_count": null,
      "metadata": {
        "id": "7FiD2PcsQAOd"
      },
      "outputs": [],
      "source": [
        "def calc_magnitude_phase(grad_x: np.ndarray, grad_y: np.ndarray) -> tuple[np.ndarray, np.ndarray]:\n",
        "    magnitude = np.sqrt(np.square(grad_x) + np.square(grad_y))\n",
        "    # Convert gradient phase from radians to degrees in range 0-180°\n",
        "    phase = np.rad2deg(np.arctan2(grad_y, grad_x)) #% 180.0\n",
        "    print(f'    Shape of magnitude matrix: {magnitude.shape}')\n",
        "    print(f'    Shape of phase matrix: {phase.shape} ')\n",
        "    return magnitude, phase"
      ]
    },
    {
      "cell_type": "code",
      "execution_count": null,
      "metadata": {
        "id": "1eHcMPI1QAOg"
      },
      "outputs": [],
      "source": [
        "def calc_histogram(magnitude, phase, cell_size=8, nbins=9):\n",
        "    # Get image dimensions\n",
        "    height, width = magnitude.shape\n",
        "\n",
        "    # Calculate number of cells\n",
        "    n_cells_y = height // cell_size\n",
        "    n_cells_x = width // cell_size\n",
        "\n",
        "    # histogram array\n",
        "    # - n_cells_y: number of cells in the vertical direction (height/cell_size)\n",
        "    # - n_cells_x: number of cells in the horizontal direction (width/cell_size)\n",
        "    # - nbins: number of orientation bins (typically 9 for HOG)\n",
        "    histograms = np.zeros((n_cells_y, n_cells_x, nbins))\n",
        "    bin_width = 180.0 / nbins\n",
        "\n",
        "    # For each cell\n",
        "    for y in range(n_cells_y):\n",
        "        for x in range(n_cells_x):\n",
        "            # Get cell region\n",
        "            cell_mag = magnitude[y*cell_size:(y+1)*cell_size, x*cell_size:(x+1)*cell_size]\n",
        "            cell_phase = phase[y*cell_size:(y+1)*cell_size, x*cell_size:(x+1)*cell_size]\n",
        "\n",
        "            # For each pixel in the cell\n",
        "            for i in range(cell_size):\n",
        "                for j in range(cell_size):\n",
        "                    # Get magnitude and phase for this pixel\n",
        "                    mag = cell_mag[i, j]\n",
        "                    angle = cell_phase[i, j]\n",
        "                    #\n",
        "                    bin_idx = int(angle // bin_width)\n",
        "                    bin_idx_next = (bin_idx + 1) % nbins\n",
        "                    # Calculate weight based on distance to bin centers\n",
        "                    bin_center = bin_idx * bin_width + bin_width / 2\n",
        "                    weight_next = (angle - bin_center + bin_width/2) / bin_width\n",
        "                    weight_next = max(0, min(1, weight_next))  # Ensure weight is between 0 and 1\n",
        "                    weight = 1 - weight_next\n",
        "                    # Add weighted magnitude to histogram bins\n",
        "                    histograms[y, x, bin_idx] += weight * mag\n",
        "                    histograms[y, x, bin_idx_next] += weight_next * mag\n",
        "    return histograms"
      ]
    },
    {
      "cell_type": "code",
      "execution_count": null,
      "metadata": {
        "id": "30N2zatOQAOh"
      },
      "outputs": [],
      "source": [
        "def normalize_histograms(histograms: np.ndarray, block_size:int = 2) -> np.ndarray:\n",
        "    \"\"\"\n",
        "    Default is 2x2 cells (16x16 pixel blocks).\n",
        "    (n_cells_y - block_size + 1, n_cells_x - block_size + 1, block_size * block_size * nbins)\n",
        "    \"\"\"\n",
        "    n_cells_y, n_cells_x, nbins = histograms.shape\n",
        "    n_blocks_y = n_cells_y - block_size + 1\n",
        "    n_blocks_x = n_cells_x - block_size + 1\n",
        "    block_features = block_size * block_size * nbins\n",
        "    normalized_blocks = np.zeros((n_blocks_y, n_blocks_x, block_features))\n",
        "\n",
        "    # For each block of cells\n",
        "    for y in range(n_blocks_y):\n",
        "        for x in range(n_blocks_x):\n",
        "            # Extract the block of histograms\n",
        "            block = histograms[y:y+block_size, x:x+block_size, :]\n",
        "\n",
        "            # Reshape block to a 1D vector\n",
        "            block_vector = block.reshape(-1)\n",
        "\n",
        "            # L2 normalization\n",
        "            epsilon = 1e-8\n",
        "            l2_norm = np.sqrt(np.sum(block_vector**2) + epsilon)\n",
        "\n",
        "            # Store the normalized block vector\n",
        "            if l2_norm > 0:\n",
        "                normalized_blocks[y, x, :] = block_vector / l2_norm\n",
        "    return normalized_blocks"
      ]
    },
    {
      "cell_type": "code",
      "execution_count": null,
      "metadata": {
        "id": "V3rmM-JlQAOh"
      },
      "outputs": [],
      "source": [
        "def hog(image: np.ndarray) -> np.ndarray:\n",
        "    # 1- Pre-process the image with the appropriate aspect ratio(64x128).\n",
        "    print(f\"Step 1: resizing images to {dimensions}\")\n",
        "    image = preprocess_image(image)\n",
        "    img_disp(image)\n",
        "\n",
        "    # 2- Get image gradients by convoluting sobel kernel (Applying 1st order derivative) with the image.\n",
        "    print()\n",
        "    print(f\"Step 2: Get image gradients by convoluting sobel kernel\")\n",
        "    grad_x, grad_y = get_gradients(image)\n",
        "\n",
        "    #3- Get magnitude and phase for the image.\n",
        "    print()\n",
        "    print(f\"Step 3: Get magnitude and phase for the image.\")\n",
        "    magnitude, phase  = calc_magnitude_phase(grad_y, grad_x)\n",
        "\n",
        "    # 4- Get histogram for the magnitudes based on the directions using the ratio approach.\n",
        "    print()\n",
        "    print(f\"Step 4: Get histogram for the magnitudes based on the directions using the ratio approach.\")\n",
        "    histograms = calc_histogram(magnitude, phase, cell_size=8, nbins=9)\n",
        "    print(f'    histograms shape: {histograms.shape}')\n",
        "\n",
        "    # 5 - Normalize each histogram.\n",
        "    normalized_blocks = normalize_histograms(histograms, block_size=1)\n",
        "    print(f'normalized_blocks : {normalized_blocks .shape}')\n",
        "\n",
        "    # 6- Concatenate all histograms into a single feature vector (with bouns 1)\n",
        "    feature_vector = normalized_blocks.flatten()\n",
        "    print(f'feature_vector: {feature_vector.shape}')\n",
        "    return feature_vector"
      ]
    },
    {
      "cell_type": "code",
      "execution_count": null,
      "metadata": {
        "id": "fChR8DaXQAOi"
      },
      "outputs": [],
      "source": [
        "def main() -> None:\n",
        "    args = sys.argv[:]\n",
        "    # getting image path\n",
        "    if len(args) < 2:\n",
        "        print(f\"Usage: ./{args[0]} <path-to-image-file>\")\n",
        "        sys.exit(0)\n",
        "    image_paths = sys.argv[1:]\n",
        "    images = [cv2.imread(image_path, cv2.IMREAD_GRAYSCALE) for image_path in image_paths]\n",
        "    for image in images:\n",
        "        feature_vector = hog(image)"
      ]
    },
    {
      "cell_type": "code",
      "execution_count": null,
      "metadata": {
        "id": "xKSQ-uN9QAOj"
      },
      "outputs": [],
      "source": [
        "if __name__ == '__main__':\n",
        "    main()"
      ]
    }
  ],
  "metadata": {
    "kernelspec": {
      "display_name": "Python 3",
      "name": "python3"
    },
    "language_info": {
      "codemirror_mode": {
        "name": "ipython",
        "version": 3
      },
      "file_extension": ".py",
      "mimetype": "text/x-python",
      "name": "python",
      "nbconvert_exporter": "python",
      "pygments_lexer": "ipython3",
      "version": "3.6.4"
    },
    "colab": {
      "provenance": [],
      "gpuType": "T4",
      "include_colab_link": true
    },
    "accelerator": "GPU"
  },
  "nbformat": 4,
  "nbformat_minor": 0
}